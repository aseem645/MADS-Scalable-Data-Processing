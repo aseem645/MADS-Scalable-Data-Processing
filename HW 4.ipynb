{
 "cells": [
  {
   "cell_type": "markdown",
   "metadata": {},
   "source": [
    "# SIADS 516 Homework 4: Spark SQL\n",
    "Version 1.0.20200221.1\n",
    "### Dr. Chris Teplovs, School of Information, University of Michigan\n",
    "<small><a rel=\"license\" href=\"http://creativecommons.org/licenses/by-nc-sa/4.0/\"><img alt=\"Creative Commons License\" style=\"border-width:0\" src=\"https://i.creativecommons.org/l/by-nc-sa/4.0/88x31.png\" /></a>This work is licensed under a <a rel=\"license\" href=\"http://creativecommons.org/licenses/by-nc-sa/4.0/\">Creative Commons Attribution-NonCommercial-ShareAlike 4.0 International License</a>."
   ]
  },
  {
   "cell_type": "markdown",
   "metadata": {},
   "source": [
    "This homework assignment uses the Yelp Academic dataset, with which you should now be familiar.\n",
    "We have created a few cells to get you started, but you're largely on your own to devise solutions to the\n",
    "\"real-world\" questions below.\n",
    "\n",
    "The best solutions will use spark.sql() calls as a preferred way to query the dataset and also use the fewest number of steps.  For example, to find the answer to \"How many users have more than 100 \"cool\" votes?\", this:\n",
    "```\n",
    "query = \"\"\"\n",
    "SELECT count(*) FROM user WHERE cool > 100\n",
    "\"\"\"\n",
    "spark.sql(query).show()\n",
    "```\n",
    "is preferable to:\n",
    "```\n",
    "user.filter('cool > 100').show()\n",
    "```\n",
    "or \n",
    "```\n",
    "query = \"\"\"\n",
    "SELECT * FROM user\n",
    "\"\"\"\n",
    "df = spark.sql(query)\n",
    "df.filter('cool > 100').show()\n",
    "```\n",
    "(Note that the last number is somewhat ridiculous.)"
   ]
  },
  {
   "cell_type": "markdown",
   "metadata": {},
   "source": [
    "Our usual Spark mantra:"
   ]
  },
  {
   "cell_type": "code",
   "execution_count": 1,
   "metadata": {},
   "outputs": [],
   "source": [
    "from pyspark.sql import SparkSession\n",
    "spark = SparkSession \\\n",
    "    .builder \\\n",
    "    .master(\"local[*]\") \\\n",
    "    .appName('My First Spark application') \\\n",
    "    .getOrCreate() \n",
    "\n",
    "sc = spark.sparkContext"
   ]
  },
  {
   "cell_type": "markdown",
   "metadata": {},
   "source": [
    "Load the JSON files:"
   ]
  },
  {
   "cell_type": "code",
   "execution_count": 2,
   "metadata": {},
   "outputs": [],
   "source": [
    "review = spark.read.json('data/yelp_academic/yelp_academic_dataset_review.json.gz')"
   ]
  },
  {
   "cell_type": "code",
   "execution_count": 3,
   "metadata": {},
   "outputs": [],
   "source": [
    "business = spark.read.json('data/yelp_academic/yelp_academic_dataset_business.json.gz')\n",
    "checkin = spark.read.json('data/yelp_academic/yelp_academic_dataset_checkin.json.gz')\n",
    "tip = spark.read.json('data/yelp_academic/yelp_academic_dataset_tip.json.gz')\n",
    "user = spark.read.json('data/yelp_academic/yelp_academic_dataset_user.json.gz')"
   ]
  },
  {
   "cell_type": "markdown",
   "metadata": {},
   "source": [
    "Create temp views for the DataFrames:"
   ]
  },
  {
   "cell_type": "code",
   "execution_count": 4,
   "metadata": {},
   "outputs": [],
   "source": [
    "business.createOrReplaceTempView(\"business\")\n",
    "checkin.createOrReplaceTempView(\"checkin\")\n",
    "tip.createOrReplaceTempView(\"tip\")\n",
    "review.createOrReplaceTempView(\"review\")\n",
    "user.createOrReplaceTempView(\"user\")"
   ]
  },
  {
   "cell_type": "markdown",
   "metadata": {},
   "source": [
    "## Q1. How many users have more than 500 fans?"
   ]
  },
  {
   "cell_type": "code",
   "execution_count": 4,
   "metadata": {},
   "outputs": [
    {
     "name": "stdout",
     "output_type": "stream",
     "text": [
      "root\n",
      " |-- average_stars: double (nullable = true)\n",
      " |-- compliment_cool: long (nullable = true)\n",
      " |-- compliment_cute: long (nullable = true)\n",
      " |-- compliment_funny: long (nullable = true)\n",
      " |-- compliment_hot: long (nullable = true)\n",
      " |-- compliment_list: long (nullable = true)\n",
      " |-- compliment_more: long (nullable = true)\n",
      " |-- compliment_note: long (nullable = true)\n",
      " |-- compliment_photos: long (nullable = true)\n",
      " |-- compliment_plain: long (nullable = true)\n",
      " |-- compliment_profile: long (nullable = true)\n",
      " |-- compliment_writer: long (nullable = true)\n",
      " |-- cool: long (nullable = true)\n",
      " |-- elite: string (nullable = true)\n",
      " |-- fans: long (nullable = true)\n",
      " |-- friends: string (nullable = true)\n",
      " |-- funny: long (nullable = true)\n",
      " |-- name: string (nullable = true)\n",
      " |-- review_count: long (nullable = true)\n",
      " |-- useful: long (nullable = true)\n",
      " |-- user_id: string (nullable = true)\n",
      " |-- yelping_since: string (nullable = true)\n",
      "\n"
     ]
    }
   ],
   "source": [
    "#To get an idea of how to structure this query, let's print the schema of the users df\n",
    "\n",
    "user.printSchema()"
   ]
  },
  {
   "cell_type": "code",
   "execution_count": 6,
   "metadata": {
    "scrolled": false
   },
   "outputs": [
    {
     "name": "stdout",
     "output_type": "stream",
     "text": [
      "+--------+\n",
      "|count(1)|\n",
      "+--------+\n",
      "|     185|\n",
      "+--------+\n",
      "\n"
     ]
    }
   ],
   "source": [
    "query = \"\"\"\n",
    "SELECT count(*) FROM user WHERE fans > 500\n",
    "\"\"\"\n",
    "spark.sql(query).show()"
   ]
  },
  {
   "cell_type": "markdown",
   "metadata": {},
   "source": [
    "There are a total of 185 users than have over 500 fans."
   ]
  },
  {
   "cell_type": "markdown",
   "metadata": {},
   "source": [
    "## Q2. How many businesses from Madison, Wisconsin are represented in the dataset?"
   ]
  },
  {
   "cell_type": "code",
   "execution_count": null,
   "metadata": {},
   "outputs": [],
   "source": [
    "#To get an idea of how to structure this query, let's print the schema of the business df"
   ]
  },
  {
   "cell_type": "code",
   "execution_count": 31,
   "metadata": {},
   "outputs": [
    {
     "name": "stdout",
     "output_type": "stream",
     "text": [
      "root\n",
      " |-- address: string (nullable = true)\n",
      " |-- attributes: struct (nullable = true)\n",
      " |    |-- AcceptsInsurance: string (nullable = true)\n",
      " |    |-- AgesAllowed: string (nullable = true)\n",
      " |    |-- Alcohol: string (nullable = true)\n",
      " |    |-- Ambience: string (nullable = true)\n",
      " |    |-- BYOB: string (nullable = true)\n",
      " |    |-- BYOBCorkage: string (nullable = true)\n",
      " |    |-- BestNights: string (nullable = true)\n",
      " |    |-- BikeParking: string (nullable = true)\n",
      " |    |-- BusinessAcceptsBitcoin: string (nullable = true)\n",
      " |    |-- BusinessAcceptsCreditCards: string (nullable = true)\n",
      " |    |-- BusinessParking: string (nullable = true)\n",
      " |    |-- ByAppointmentOnly: string (nullable = true)\n",
      " |    |-- Caters: string (nullable = true)\n",
      " |    |-- CoatCheck: string (nullable = true)\n",
      " |    |-- Corkage: string (nullable = true)\n",
      " |    |-- DietaryRestrictions: string (nullable = true)\n",
      " |    |-- DogsAllowed: string (nullable = true)\n",
      " |    |-- DriveThru: string (nullable = true)\n",
      " |    |-- GoodForDancing: string (nullable = true)\n",
      " |    |-- GoodForKids: string (nullable = true)\n",
      " |    |-- GoodForMeal: string (nullable = true)\n",
      " |    |-- HairSpecializesIn: string (nullable = true)\n",
      " |    |-- HappyHour: string (nullable = true)\n",
      " |    |-- HasTV: string (nullable = true)\n",
      " |    |-- Music: string (nullable = true)\n",
      " |    |-- NoiseLevel: string (nullable = true)\n",
      " |    |-- Open24Hours: string (nullable = true)\n",
      " |    |-- OutdoorSeating: string (nullable = true)\n",
      " |    |-- RestaurantsAttire: string (nullable = true)\n",
      " |    |-- RestaurantsCounterService: string (nullable = true)\n",
      " |    |-- RestaurantsDelivery: string (nullable = true)\n",
      " |    |-- RestaurantsGoodForGroups: string (nullable = true)\n",
      " |    |-- RestaurantsPriceRange2: string (nullable = true)\n",
      " |    |-- RestaurantsReservations: string (nullable = true)\n",
      " |    |-- RestaurantsTableService: string (nullable = true)\n",
      " |    |-- RestaurantsTakeOut: string (nullable = true)\n",
      " |    |-- Smoking: string (nullable = true)\n",
      " |    |-- WheelchairAccessible: string (nullable = true)\n",
      " |    |-- WiFi: string (nullable = true)\n",
      " |-- business_id: string (nullable = true)\n",
      " |-- categories: string (nullable = true)\n",
      " |-- city: string (nullable = true)\n",
      " |-- hours: struct (nullable = true)\n",
      " |    |-- Friday: string (nullable = true)\n",
      " |    |-- Monday: string (nullable = true)\n",
      " |    |-- Saturday: string (nullable = true)\n",
      " |    |-- Sunday: string (nullable = true)\n",
      " |    |-- Thursday: string (nullable = true)\n",
      " |    |-- Tuesday: string (nullable = true)\n",
      " |    |-- Wednesday: string (nullable = true)\n",
      " |-- is_open: long (nullable = true)\n",
      " |-- latitude: double (nullable = true)\n",
      " |-- longitude: double (nullable = true)\n",
      " |-- name: string (nullable = true)\n",
      " |-- postal_code: string (nullable = true)\n",
      " |-- review_count: long (nullable = true)\n",
      " |-- stars: double (nullable = true)\n",
      " |-- state: string (nullable = true)\n",
      "\n"
     ]
    }
   ],
   "source": [
    "business.printSchema()"
   ]
  },
  {
   "cell_type": "code",
   "execution_count": 17,
   "metadata": {},
   "outputs": [
    {
     "name": "stdout",
     "output_type": "stream",
     "text": [
      "+-------------+\n",
      "|         city|\n",
      "+-------------+\n",
      "|      Phoenix|\n",
      "|  Mississauga|\n",
      "|    Charlotte|\n",
      "|     Goodyear|\n",
      "|    Charlotte|\n",
      "|  Mississauga|\n",
      "|      Calgary|\n",
      "|    Las Vegas|\n",
      "|     Glendale|\n",
      "|Fairview Park|\n",
      "+-------------+\n",
      "\n"
     ]
    }
   ],
   "source": [
    "#It seems like the relevant data may be in the city column. Let's see how it's formatted.\n",
    "\n",
    "query = \"\"\"\n",
    "SELECT city FROM business LIMIT 10\n",
    "\"\"\"\n",
    "spark.sql(query).show()"
   ]
  },
  {
   "cell_type": "code",
   "execution_count": 18,
   "metadata": {},
   "outputs": [
    {
     "name": "stdout",
     "output_type": "stream",
     "text": [
      "+--------+\n",
      "|count(1)|\n",
      "+--------+\n",
      "|    3493|\n",
      "+--------+\n",
      "\n"
     ]
    }
   ],
   "source": [
    "#Now let's get the count of businesses based in Madison\n",
    "query = \"\"\"\n",
    "SELECT count(*) from business WHERE city = 'Madison' AND state = 'WI'\n",
    "\"\"\"\n",
    "spark.sql(query).show()"
   ]
  },
  {
   "cell_type": "markdown",
   "metadata": {},
   "source": [
    "There are 3493 businesses that are based in Madison, WI."
   ]
  },
  {
   "cell_type": "markdown",
   "metadata": {},
   "source": [
    "## Q3: How many users have more than 500 fans?"
   ]
  },
  {
   "cell_type": "code",
   "execution_count": 19,
   "metadata": {
    "scrolled": false
   },
   "outputs": [],
   "source": [
    "# This question is a duplicate, so we will ignore it"
   ]
  },
  {
   "cell_type": "markdown",
   "metadata": {},
   "source": [
    "## Q4: Which US states are represented in the data set?  Use full names of states (you will need to look up the list of state abbreviations is you don't know them)."
   ]
  },
  {
   "cell_type": "code",
   "execution_count": null,
   "metadata": {},
   "outputs": [],
   "source": [
    "#In order to answer this question, let's utilize the business dataframe, given that it contains a state column"
   ]
  },
  {
   "cell_type": "code",
   "execution_count": 20,
   "metadata": {},
   "outputs": [
    {
     "name": "stdout",
     "output_type": "stream",
     "text": [
      "+-----+\n",
      "|state|\n",
      "+-----+\n",
      "|   AZ|\n",
      "|   SC|\n",
      "|  BAS|\n",
      "|   NJ|\n",
      "|   VA|\n",
      "|   QC|\n",
      "|   BC|\n",
      "|   NV|\n",
      "|   WI|\n",
      "|   CA|\n",
      "|   NE|\n",
      "|   CT|\n",
      "|   NC|\n",
      "|   VT|\n",
      "|   IL|\n",
      "|  XGL|\n",
      "|   WA|\n",
      "|   AL|\n",
      "|  XGM|\n",
      "|   OH|\n",
      "+-----+\n",
      "only showing top 20 rows\n",
      "\n"
     ]
    }
   ],
   "source": [
    "query = \"\"\"\n",
    "SELECT DISTINCT state FROM business\n",
    "\"\"\"\n",
    "spark.sql(query).show()"
   ]
  },
  {
   "cell_type": "markdown",
   "metadata": {},
   "source": [
    "Selecting all distinct values from states returns this list. After disregarding the abbreviations that don't reference US administered locales, there appears to be 15 states present within the dataset. "
   ]
  },
  {
   "cell_type": "markdown",
   "metadata": {},
   "source": [
    "## Q5: What is the text of the funniest review?"
   ]
  },
  {
   "cell_type": "code",
   "execution_count": 25,
   "metadata": {},
   "outputs": [
    {
     "name": "stdout",
     "output_type": "stream",
     "text": [
      "root\n",
      " |-- business_id: string (nullable = true)\n",
      " |-- cool: long (nullable = true)\n",
      " |-- date: string (nullable = true)\n",
      " |-- funny: long (nullable = true)\n",
      " |-- review_id: string (nullable = true)\n",
      " |-- stars: double (nullable = true)\n",
      " |-- text: string (nullable = true)\n",
      " |-- useful: long (nullable = true)\n",
      " |-- user_id: string (nullable = true)\n",
      "\n"
     ]
    }
   ],
   "source": [
    "#To structure this query, we'll utilize the review dataframe\n",
    "review.printSchema()"
   ]
  },
  {
   "cell_type": "code",
   "execution_count": 31,
   "metadata": {},
   "outputs": [
    {
     "name": "stdout",
     "output_type": "stream",
     "text": [
      "+--------------------+-------------+\n",
      "|                text|maximum_funny|\n",
      "+--------------------+-------------+\n",
      "|Flew to Arizona a...|         1290|\n",
      "+--------------------+-------------+\n",
      "\n"
     ]
    }
   ],
   "source": [
    "query = \"\"\"\n",
    "SELECT text, MAX(funny) AS maximum_funny\n",
    "FROM review\n",
    "GROUP BY text\n",
    "ORDER BY maximum_funny DESC\n",
    "LIMIT 1\n",
    "\"\"\"\n",
    "spark.sql(query).show()"
   ]
  },
  {
   "cell_type": "markdown",
   "metadata": {},
   "source": [
    "Based on the output, the funniest review was rated as such a total of 1290 times."
   ]
  },
  {
   "cell_type": "markdown",
   "metadata": {},
   "source": [
    "## Q6: Which review(s) has/have the most words?  What do you notice about the maximum word count?"
   ]
  },
  {
   "cell_type": "code",
   "execution_count": 137,
   "metadata": {},
   "outputs": [
    {
     "name": "stdout",
     "output_type": "stream",
     "text": [
      "+----------------------+\n",
      "|word_count_no_brackets|\n",
      "+----------------------+\n",
      "|                    39|\n",
      "|                   274|\n",
      "|                   109|\n",
      "|                    68|\n",
      "|                   673|\n",
      "|                   295|\n",
      "|                   244|\n",
      "|                    72|\n",
      "|                   263|\n",
      "|                    19|\n",
      "+----------------------+\n",
      "only showing top 10 rows\n",
      "\n"
     ]
    }
   ],
   "source": [
    "#In order to answer this question, we will try to create two user defined function\n",
    "#The first udf will get the total word count for row of text\n",
    "#The second udf will strip the square brackets from the word_count column\n",
    "\n",
    "\n",
    "from pyspark.sql import functions as F\n",
    "from pyspark.sql.types import IntegerType\n",
    "\n",
    "def count_words_in_each_review(review):\n",
    "    return [len(x.split()) for x in review]\n",
    "\n",
    "def list_to_string_without_brackets(row):\n",
    "    return str(row).replace('[','').replace(']','')\n",
    "\n",
    "count_words = F.udf(lambda x: count_words_in_each_review(x.split('. | ! | ? ')))\n",
    "\n",
    "no_brackets = F.udf(lambda x : list_to_string_without_brackets(x))\n",
    "\n",
    "review =  review.withColumn('word_count', count_words(review['text']))\n",
    "\n",
    "review =  review.withColumn('word_count_no_brackets', no_brackets(review['word_count']))\n",
    "\n",
    "review = review.withColumn(\"word_count_no_brackets\", review[\"word_count_no_brackets\"].cast(IntegerType()))\n",
    "\n",
    "review.select('word_count_no_brackets').show(10)\n",
    "\n"
   ]
  },
  {
   "cell_type": "code",
   "execution_count": 133,
   "metadata": {},
   "outputs": [
    {
     "name": "stdout",
     "output_type": "stream",
     "text": [
      "root\n",
      " |-- business_id: string (nullable = true)\n",
      " |-- cool: long (nullable = true)\n",
      " |-- date: string (nullable = true)\n",
      " |-- funny: long (nullable = true)\n",
      " |-- review_id: string (nullable = true)\n",
      " |-- stars: double (nullable = true)\n",
      " |-- text: string (nullable = true)\n",
      " |-- useful: long (nullable = true)\n",
      " |-- user_id: string (nullable = true)\n",
      " |-- word_count: string (nullable = true)\n",
      " |-- word_count_no_brackets: integer (nullable = true)\n",
      "\n"
     ]
    }
   ],
   "source": [
    "#So we avoid overwriting the original 'review' view, let's create another temp one\n",
    "\n",
    "review_temp = review\n",
    "review_temp.createOrReplaceTempView(\"review_temp\")\n",
    "\n",
    "review_temp.printSchema()"
   ]
  },
  {
   "cell_type": "code",
   "execution_count": 136,
   "metadata": {},
   "outputs": [
    {
     "name": "stdout",
     "output_type": "stream",
     "text": [
      "+--------------------+---------+\n",
      "|           review_id|MAX_COUNT|\n",
      "+--------------------+---------+\n",
      "|6-7Krt1orAWzvEEGw...|     1056|\n",
      "|zskhSqDePgk7NWUV_...|     1052|\n",
      "|LFQgXFHWlYmMCqICp...|     1051|\n",
      "|HUr1-JjbUwbp5GKAS...|     1051|\n",
      "|GmnfN9kvRx_KMS6jH...|     1049|\n",
      "+--------------------+---------+\n",
      "\n"
     ]
    }
   ],
   "source": [
    "# Now that we've created a word count column, lets get the review with the highest word count, along with its id\n",
    "query = \"\"\"\n",
    "SELECT review_id, MAX(word_count_no_brackets) AS MAX_COUNT\n",
    "FROM review_temp\n",
    "GROUP BY review_id\n",
    "ORDER BY MAX_COUNT DESC\n",
    "LIMIT 5\n",
    "\"\"\"\n",
    "spark.sql(query).show()\n"
   ]
  },
  {
   "cell_type": "markdown",
   "metadata": {},
   "source": [
    "The review with the max word count, based on our word count calculation logic, dials in at 1056 words in total."
   ]
  },
  {
   "cell_type": "markdown",
   "metadata": {},
   "source": [
    "## Q7: What are the names of the top 10 users who provided the most tips?"
   ]
  },
  {
   "cell_type": "code",
   "execution_count": 139,
   "metadata": {},
   "outputs": [
    {
     "name": "stdout",
     "output_type": "stream",
     "text": [
      "root\n",
      " |-- business_id: string (nullable = true)\n",
      " |-- compliment_count: long (nullable = true)\n",
      " |-- date: string (nullable = true)\n",
      " |-- text: string (nullable = true)\n",
      " |-- user_id: string (nullable = true)\n",
      "\n"
     ]
    }
   ],
   "source": [
    "# It is likely that the tip dataframe will be useful here. Let's print the schema\n",
    "tip.printSchema()"
   ]
  },
  {
   "cell_type": "code",
   "execution_count": 21,
   "metadata": {},
   "outputs": [
    {
     "name": "stdout",
     "output_type": "stream",
     "text": [
      "root\n",
      " |-- average_stars: double (nullable = true)\n",
      " |-- compliment_cool: long (nullable = true)\n",
      " |-- compliment_cute: long (nullable = true)\n",
      " |-- compliment_funny: long (nullable = true)\n",
      " |-- compliment_hot: long (nullable = true)\n",
      " |-- compliment_list: long (nullable = true)\n",
      " |-- compliment_more: long (nullable = true)\n",
      " |-- compliment_note: long (nullable = true)\n",
      " |-- compliment_photos: long (nullable = true)\n",
      " |-- compliment_plain: long (nullable = true)\n",
      " |-- compliment_profile: long (nullable = true)\n",
      " |-- compliment_writer: long (nullable = true)\n",
      " |-- cool: long (nullable = true)\n",
      " |-- elite: string (nullable = true)\n",
      " |-- fans: long (nullable = true)\n",
      " |-- friends: string (nullable = true)\n",
      " |-- funny: long (nullable = true)\n",
      " |-- name: string (nullable = true)\n",
      " |-- review_count: long (nullable = true)\n",
      " |-- useful: long (nullable = true)\n",
      " |-- user_id: string (nullable = true)\n",
      " |-- yelping_since: string (nullable = true)\n",
      " |-- business_id: string (nullable = true)\n",
      " |-- compliment_count: long (nullable = true)\n",
      " |-- date: string (nullable = true)\n",
      " |-- text: string (nullable = true)\n",
      " |-- user_id: string (nullable = true)\n",
      "\n"
     ]
    }
   ],
   "source": [
    "#In order to answer this, we can likely just get a count of the user IDs that appear the most often in this dataframe\n",
    "#Naturally, the more a user_id appears, the more tips that user is writing. We can create a new column called tip_count.\n",
    "#We can pull in the name column by joining tip on user, since these dataframes have a one to many relationship.\n",
    "\n",
    "\n",
    "\n",
    "inner_join = user.join(tip, user.user_id == tip.user_id)\n",
    "\n",
    "inner_join.createOrReplaceTempView(\"inner_join\")\n",
    "\n",
    "inner_join.printSchema()"
   ]
  },
  {
   "cell_type": "code",
   "execution_count": 22,
   "metadata": {},
   "outputs": [
    {
     "name": "stdout",
     "output_type": "stream",
     "text": [
      "+--------+----------+\n",
      "|    name|NAME_COUNT|\n",
      "+--------+----------+\n",
      "| Michael|     11007|\n",
      "|    John|     10819|\n",
      "|    Mike|     10320|\n",
      "|Jennifer|     10057|\n",
      "|   Chris|      9966|\n",
      "|   David|      9032|\n",
      "|Michelle|      7466|\n",
      "|   Jason|      7226|\n",
      "| Jessica|      6969|\n",
      "|    Lisa|      6011|\n",
      "+--------+----------+\n",
      "\n"
     ]
    }
   ],
   "source": [
    "#Now we can structure the query\n",
    "query = \"\"\"\n",
    "SELECT name, COUNT(*) as NAME_COUNT\n",
    "FROM inner_join \n",
    "GROUP BY name\n",
    "ORDER BY NAME_COUNT DESC\n",
    "LIMIT 10\n",
    "\"\"\"\n",
    "\n",
    "spark.sql(query).show()"
   ]
  },
  {
   "cell_type": "markdown",
   "metadata": {},
   "source": [
    "The output displays the top ten tip writers within the yelp dataset, with Michael taking the number one spot."
   ]
  },
  {
   "cell_type": "markdown",
   "metadata": {},
   "source": [
    "## Q8: List the names, number of reviews of businesses in Arizona and total number of reviews of the top 5 users (as determined by who has created the most number of reviews of businesses in Arizona).  Include a column that shows the percentage of reviews that are of businesses from Arizona.  The first row of the results should be:\n",
    "```\n",
    "+--------+--------+-----------+---------+\n",
    "|    name|az_count|total_count|  percent|\n",
    "+--------+--------+-----------+---------+\n",
    "|    Brad|    1637|       1642|99.695496|\n",
    "+--------+--------+-----------+---------+\n",
    "```"
   ]
  },
  {
   "cell_type": "code",
   "execution_count": 5,
   "metadata": {},
   "outputs": [],
   "source": [
    "#For this question, we'll likely have to create another inner join. We'll join review.business_id on business.business_id\n",
    "#since the 'name' columns contain different data in both dataframes, we can rename one of them so there is no confusion\n",
    "#after that, we can create another inner join, of inner_join_2.user_id == user.user_id, to pull in the users' names.\n",
    "#we'll make sure to also rename the review_count column in business so there is no ambiguity\n",
    "\n",
    "\n",
    "business_temp = business.withColumnRenamed(\"name\",\"business_name\").withColumnRenamed(\"review_count\", \"business_review_count\")\n",
    "\n",
    "inner_join_2 = business_temp.join(review, business_temp.business_id == review.business_id)\n",
    "\n",
    "inner_join_2.createOrReplaceTempView(\"inner_join_2\")\n",
    "\n",
    "inner_join_3 = inner_join_2.join(user, inner_join_2.user_id == user.user_id)\n",
    "\n",
    "inner_join_3.createOrReplaceTempView(\"inner_join_3\")\n"
   ]
  },
  {
   "cell_type": "code",
   "execution_count": 6,
   "metadata": {},
   "outputs": [
    {
     "name": "stdout",
     "output_type": "stream",
     "text": [
      "+--------+--------+-----------+-----------------+\n",
      "|    name|az_count|total_count|          percent|\n",
      "+--------+--------+-----------+-----------------+\n",
      "|    Brad|    1637|       1642|99.69549330085262|\n",
      "|   Karen|    1559|       2340|66.62393162393163|\n",
      "|Jennifer|    1250|       1929|64.80041472265422|\n",
      "|    Gabi|    1151|       1932|59.57556935817805|\n",
      "|    Judy|    1059|       1193|88.76781223805533|\n",
      "+--------+--------+-----------+-----------------+\n",
      "\n"
     ]
    }
   ],
   "source": [
    "query = \"\"\"\n",
    "SELECT name, COUNT(state) AS az_count, review_count AS total_count, (COUNT(state)/review_count)*100 AS percent\n",
    "FROM inner_join_3 \n",
    "WHERE state = 'AZ'\n",
    "GROUP BY name, total_count\n",
    "ORDER BY az_count DESC\n",
    "LIMIT 5\n",
    "\"\"\"\n",
    "\n",
    "spark.sql(query).show()"
   ]
  },
  {
   "cell_type": "markdown",
   "metadata": {},
   "source": [
    "This output displays the top five users, in terms of total number of establishments reviewed that are located within Arizona, ordered by total count of their Arizona-based reviews. In terms of users with the largest proportion of reviews based on Arizona-based establishments, Brad takes the number one spot, at close to 100%, while Judy takes second place, at about 89%."
   ]
  }
 ],
 "metadata": {
  "kernelspec": {
   "display_name": "Python 3",
   "language": "python",
   "name": "python3"
  },
  "language_info": {
   "codemirror_mode": {
    "name": "ipython",
    "version": 3
   },
   "file_extension": ".py",
   "mimetype": "text/x-python",
   "name": "python",
   "nbconvert_exporter": "python",
   "pygments_lexer": "ipython3",
   "version": "3.7.3"
  }
 },
 "nbformat": 4,
 "nbformat_minor": 2
}
